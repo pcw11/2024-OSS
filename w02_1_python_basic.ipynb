{
  "nbformat": 4,
  "nbformat_minor": 0,
  "metadata": {
    "colab": {
      "provenance": [],
      "authorship_tag": "ABX9TyNdr7bGxcb/P0zRoSZ7bFdh",
      "include_colab_link": true
    },
    "kernelspec": {
      "name": "python3",
      "display_name": "Python 3"
    },
    "language_info": {
      "name": "python"
    }
  },
  "cells": [
    {
      "cell_type": "markdown",
      "metadata": {
        "id": "view-in-github",
        "colab_type": "text"
      },
      "source": [
        "<a href=\"https://colab.research.google.com/github/pcw11/2024-OSS/blob/main/w02_1_python_basic.ipynb\" target=\"_parent\"><img src=\"https://colab.research.google.com/assets/colab-badge.svg\" alt=\"Open In Colab\"/></a>"
      ]
    },
    {
      "cell_type": "markdown",
      "source": [
        "### 파이썬 언어 기촌\n",
        "## 상수와 변수"
      ],
      "metadata": {
        "id": "UKcdkVnZ_Gyq"
      }
    },
    {
      "cell_type": "code",
      "execution_count": 12,
      "metadata": {
        "id": "QOZ0hp8X-xDB"
      },
      "outputs": [],
      "source": [
        "# comments"
      ]
    },
    {
      "cell_type": "code",
      "source": [
        "3.4 # numeric literals"
      ],
      "metadata": {
        "colab": {
          "base_uri": "https://localhost:8080/"
        },
        "id": "rclS8x8Z_WEt",
        "outputId": "05c73a0a-d3bb-413f-d217-3911f4395c1e"
      },
      "execution_count": 13,
      "outputs": [
        {
          "output_type": "execute_result",
          "data": {
            "text/plain": [
              "3.4"
            ]
          },
          "metadata": {},
          "execution_count": 13
        }
      ]
    },
    {
      "cell_type": "code",
      "source": [
        "7L"
      ],
      "metadata": {
        "colab": {
          "base_uri": "https://localhost:8080/",
          "height": 106
        },
        "id": "7IA8fvtA_a6f",
        "outputId": "130f75a1-e4bc-42cd-f171-2d1cf7e1e455"
      },
      "execution_count": 14,
      "outputs": [
        {
          "output_type": "error",
          "ename": "SyntaxError",
          "evalue": "invalid decimal literal (<ipython-input-14-768ed451f8b0>, line 1)",
          "traceback": [
            "\u001b[0;36m  File \u001b[0;32m\"<ipython-input-14-768ed451f8b0>\"\u001b[0;36m, line \u001b[0;32m1\u001b[0m\n\u001b[0;31m    7L\u001b[0m\n\u001b[0m    ^\u001b[0m\n\u001b[0;31mSyntaxError\u001b[0m\u001b[0;31m:\u001b[0m invalid decimal literal\n"
          ]
        }
      ]
    },
    {
      "cell_type": "code",
      "source": [
        "-5 4.5"
      ],
      "metadata": {
        "colab": {
          "base_uri": "https://localhost:8080/",
          "height": 106
        },
        "id": "jV7lu4--_oWL",
        "outputId": "57f8ed81-54a1-4247-af7c-020f6e9e40c4"
      },
      "execution_count": 16,
      "outputs": [
        {
          "output_type": "error",
          "ename": "SyntaxError",
          "evalue": "invalid syntax (<ipython-input-16-4e8c55c1b341>, line 1)",
          "traceback": [
            "\u001b[0;36m  File \u001b[0;32m\"<ipython-input-16-4e8c55c1b341>\"\u001b[0;36m, line \u001b[0;32m1\u001b[0m\n\u001b[0;31m    -5 4.5\u001b[0m\n\u001b[0m       ^\u001b[0m\n\u001b[0;31mSyntaxError\u001b[0m\u001b[0;31m:\u001b[0m invalid syntax\n"
          ]
        }
      ]
    },
    {
      "cell_type": "code",
      "source": [
        "10, -3"
      ],
      "metadata": {
        "colab": {
          "base_uri": "https://localhost:8080/"
        },
        "id": "1LClh071_sfX",
        "outputId": "ce7db582-83bb-4eb9-d453-13ab6365d733"
      },
      "execution_count": 15,
      "outputs": [
        {
          "output_type": "execute_result",
          "data": {
            "text/plain": [
              "(10, -3)"
            ]
          },
          "metadata": {},
          "execution_count": 15
        }
      ]
    },
    {
      "cell_type": "code",
      "source": [
        "# variable\n",
        "a = 3 # assign value to variable a\n",
        "a"
      ],
      "metadata": {
        "id": "vHyajxyP_up_"
      },
      "execution_count": null,
      "outputs": []
    },
    {
      "cell_type": "code",
      "source": [
        "m,n = 10, 20\n",
        "print(m,n)"
      ],
      "metadata": {
        "id": "qp7BHMjsAJGG"
      },
      "execution_count": null,
      "outputs": []
    },
    {
      "cell_type": "code",
      "source": [
        "# var name\n",
        "age = 19\n",
        "age"
      ],
      "metadata": {
        "colab": {
          "base_uri": "https://localhost:8080/"
        },
        "id": "8sO9CwXQAQSA",
        "outputId": "ae30b085-72b8-482d-c0d9-da85a82bbd91"
      },
      "execution_count": 18,
      "outputs": [
        {
          "output_type": "execute_result",
          "data": {
            "text/plain": [
              "19"
            ]
          },
          "metadata": {},
          "execution_count": 18
        }
      ]
    },
    {
      "cell_type": "code",
      "source": [
        "my_age = 20\n",
        "my_age\n"
      ],
      "metadata": {
        "colab": {
          "base_uri": "https://localhost:8080/"
        },
        "id": "kRFkQVsQDbbX",
        "outputId": "2893f4e6-4413-475c-f2e9-8d5c7c4eedb7"
      },
      "execution_count": 19,
      "outputs": [
        {
          "output_type": "execute_result",
          "data": {
            "text/plain": [
              "20"
            ]
          },
          "metadata": {},
          "execution_count": 19
        }
      ]
    },
    {
      "cell_type": "code",
      "source": [
        "_height = 172.3\n",
        "_height"
      ],
      "metadata": {
        "colab": {
          "base_uri": "https://localhost:8080/"
        },
        "id": "nBHfX1nIDd6_",
        "outputId": "19623352-80b2-49da-8acc-ab4421a5fc50"
      },
      "execution_count": 20,
      "outputs": [
        {
          "output_type": "execute_result",
          "data": {
            "text/plain": [
              "172.3"
            ]
          },
          "metadata": {},
          "execution_count": 20
        }
      ]
    },
    {
      "cell_type": "code",
      "source": [
        "_26asian = 2026 # 첫 _이후에 바로 숫자 사용 가능\n",
        "_26asian"
      ],
      "metadata": {
        "id": "XRSqwqAdApmP"
      },
      "execution_count": null,
      "outputs": []
    },
    {
      "cell_type": "code",
      "source": [
        "# 잘못된 변수\n",
        "26worldcup = 2026 # 수가 맨 먼저 위치하면 에러\n"
      ],
      "metadata": {
        "id": "RFpJjNCAA0sn"
      },
      "execution_count": null,
      "outputs": []
    },
    {
      "cell_type": "code",
      "source": [
        "my .age =21 # .은 사용하면 에러"
      ],
      "metadata": {
        "id": "khU3xEIjBTCp"
      },
      "execution_count": null,
      "outputs": []
    },
    {
      "cell_type": "code",
      "source": [
        "my credits = 18 # 공백 문자 등 다른 문자 사용하면 에러"
      ],
      "metadata": {
        "id": "T4fyJjarBaYw"
      },
      "execution_count": null,
      "outputs": []
    },
    {
      "cell_type": "markdown",
      "source": [
        "### R 기본 자료형"
      ],
      "metadata": {
        "id": "rME7An4CBpzS"
      }
    },
    {
      "cell_type": "code",
      "source": [
        "# int\n",
        "a =10\n",
        "print(a)"
      ],
      "metadata": {
        "id": "U26_PoIlBjdX"
      },
      "execution_count": null,
      "outputs": []
    },
    {
      "cell_type": "code",
      "source": [
        "type(a)"
      ],
      "metadata": {
        "id": "jGRySLrGBvjr"
      },
      "execution_count": null,
      "outputs": []
    },
    {
      "cell_type": "code",
      "source": [
        "from re import X\n",
        "# float\n",
        "x = 2.718\n",
        "print(X)\n",
        "\n",
        "type(x)"
      ],
      "metadata": {
        "colab": {
          "base_uri": "https://localhost:8080/"
        },
        "id": "CJDJAvdHBzf3",
        "outputId": "76ab4888-77c1-44ca-edd3-81cbeb20073b"
      },
      "execution_count": 21,
      "outputs": [
        {
          "output_type": "stream",
          "name": "stdout",
          "text": [
            "re.VERBOSE\n"
          ]
        },
        {
          "output_type": "execute_result",
          "data": {
            "text/plain": [
              "float"
            ]
          },
          "metadata": {},
          "execution_count": 21
        }
      ]
    },
    {
      "cell_type": "code",
      "source": [
        "# complex\n",
        "c = 3 - 4j\n",
        "print(c)\n",
        "\n",
        "type(c)"
      ],
      "metadata": {
        "colab": {
          "base_uri": "https://localhost:8080/"
        },
        "id": "LPEo0_q6B-qI",
        "outputId": "638c5a47-8c04-4a81-f2cd-4a9fd57680d9"
      },
      "execution_count": 22,
      "outputs": [
        {
          "output_type": "stream",
          "name": "stdout",
          "text": [
            "(3-4j)\n"
          ]
        },
        {
          "output_type": "execute_result",
          "data": {
            "text/plain": [
              "complex"
            ]
          },
          "metadata": {},
          "execution_count": 22
        }
      ]
    },
    {
      "cell_type": "code",
      "source": [
        "# string\n",
        "s = \"VS code\"\n",
        "print(s)\n",
        "\n",
        "type(s)"
      ],
      "metadata": {
        "colab": {
          "base_uri": "https://localhost:8080/"
        },
        "id": "D4TPiB5fCIV-",
        "outputId": "a6af334b-f9af-44f6-af31-7b80fc7e7494"
      },
      "execution_count": 23,
      "outputs": [
        {
          "output_type": "stream",
          "name": "stdout",
          "text": [
            "VS code\n"
          ]
        },
        {
          "output_type": "execute_result",
          "data": {
            "text/plain": [
              "str"
            ]
          },
          "metadata": {},
          "execution_count": 23
        }
      ]
    },
    {
      "cell_type": "markdown",
      "source": [
        "### 날짜 자료형"
      ],
      "metadata": {
        "id": "DmiRgYsGCRaX"
      }
    },
    {
      "cell_type": "code",
      "source": [
        "import datetime as dt\n",
        "c = dt.datetime.now()\n",
        "print(c.year, c.month, c.day)\n",
        "\n",
        "type(c)"
      ],
      "metadata": {
        "colab": {
          "base_uri": "https://localhost:8080/"
        },
        "id": "4sHiWfaNCVlp",
        "outputId": "bffbc797-b3f9-4899-b290-5f5db7a90fa0"
      },
      "execution_count": 24,
      "outputs": [
        {
          "output_type": "stream",
          "name": "stdout",
          "text": [
            "2024 9 15\n"
          ]
        },
        {
          "output_type": "execute_result",
          "data": {
            "text/plain": [
              "datetime.datetime"
            ]
          },
          "metadata": {},
          "execution_count": 24
        }
      ]
    },
    {
      "cell_type": "code",
      "source": [
        "import datetime as dt\n",
        "d = dt.datetime(2026, 3, 1)\n",
        "print(d, '요일:', d.weekday())"
      ],
      "metadata": {
        "colab": {
          "base_uri": "https://localhost:8080/"
        },
        "id": "BB4sKHXrCovY",
        "outputId": "13cc13aa-b7d9-4f12-e681-a777e2592fc2"
      },
      "execution_count": 25,
      "outputs": [
        {
          "output_type": "stream",
          "name": "stdout",
          "text": [
            "2026-03-01 00:00:00 요일: 6\n"
          ]
        }
      ]
    },
    {
      "cell_type": "markdown",
      "source": [
        "### 다양한 연산자"
      ],
      "metadata": {
        "id": "TUwY04_mDB3m"
      }
    },
    {
      "cell_type": "code",
      "source": [
        "10 + 4.3"
      ],
      "metadata": {
        "colab": {
          "base_uri": "https://localhost:8080/"
        },
        "id": "kqxb2HdbDFR4",
        "outputId": "e96194c5-6358-4f2d-c17c-2c82748a8c29"
      },
      "execution_count": 27,
      "outputs": [
        {
          "output_type": "execute_result",
          "data": {
            "text/plain": [
              "14.3"
            ]
          },
          "metadata": {},
          "execution_count": 27
        }
      ]
    },
    {
      "cell_type": "code",
      "source": [
        "5.4 -1.2"
      ],
      "metadata": {
        "colab": {
          "base_uri": "https://localhost:8080/"
        },
        "id": "RwRVBR-rDo9w",
        "outputId": "cf61da5f-d825-4c0a-f9dd-5bc86dec7acc"
      },
      "execution_count": 28,
      "outputs": [
        {
          "output_type": "execute_result",
          "data": {
            "text/plain": [
              "4.2"
            ]
          },
          "metadata": {},
          "execution_count": 28
        }
      ]
    },
    {
      "cell_type": "code",
      "source": [
        "4 * 2.7"
      ],
      "metadata": {
        "colab": {
          "base_uri": "https://localhost:8080/"
        },
        "id": "mtstl185DsHV",
        "outputId": "50e4916e-2ce6-42c2-9e6f-83ac2da929c7"
      },
      "execution_count": 29,
      "outputs": [
        {
          "output_type": "execute_result",
          "data": {
            "text/plain": [
              "10.8"
            ]
          },
          "metadata": {},
          "execution_count": 29
        }
      ]
    },
    {
      "cell_type": "code",
      "source": [
        "10 / 4"
      ],
      "metadata": {
        "colab": {
          "base_uri": "https://localhost:8080/"
        },
        "id": "fOVxewOEDv3Y",
        "outputId": "2f641659-dcbf-4c01-d0cd-d32f4be1ed62"
      },
      "execution_count": 30,
      "outputs": [
        {
          "output_type": "execute_result",
          "data": {
            "text/plain": [
              "2.5"
            ]
          },
          "metadata": {},
          "execution_count": 30
        }
      ]
    },
    {
      "cell_type": "code",
      "source": [
        "10 % 3 # 나며지 연산자 integer division"
      ],
      "metadata": {
        "colab": {
          "base_uri": "https://localhost:8080/"
        },
        "id": "HsHzTiSNDOXZ",
        "outputId": "5268cff3-9fbc-4dc3-f304-8723638abda9"
      },
      "execution_count": 31,
      "outputs": [
        {
          "output_type": "execute_result",
          "data": {
            "text/plain": [
              "1"
            ]
          },
          "metadata": {},
          "execution_count": 31
        }
      ]
    },
    {
      "cell_type": "code",
      "source": [
        "10 // 3 # 몫 연산자"
      ],
      "metadata": {
        "id": "hfaXpbFKD2Ee"
      },
      "execution_count": null,
      "outputs": []
    },
    {
      "cell_type": "code",
      "source": [
        "3 ** 3 # 지수 연산자"
      ],
      "metadata": {
        "id": "dJzSUAWyD6xK"
      },
      "execution_count": null,
      "outputs": []
    },
    {
      "cell_type": "code",
      "source": [
        "2 ** 2.8 # 지수 연산자"
      ],
      "metadata": {
        "id": "LrLfL2pIEAvU"
      },
      "execution_count": null,
      "outputs": []
    },
    {
      "cell_type": "code",
      "source": [
        "3 * (4 - 2)"
      ],
      "metadata": {
        "id": "wpM8BZD3EFIh"
      },
      "execution_count": null,
      "outputs": []
    },
    {
      "cell_type": "code",
      "source": [
        "(10 - 3) ** 2"
      ],
      "metadata": {
        "id": "8wf_y6PhEJA-"
      },
      "execution_count": null,
      "outputs": []
    },
    {
      "cell_type": "code",
      "source": [
        "True & True"
      ],
      "metadata": {
        "id": "T0a1G2E0EMQG"
      },
      "execution_count": null,
      "outputs": []
    },
    {
      "cell_type": "code",
      "source": [
        "True and False"
      ],
      "metadata": {
        "id": "CehSRbUoER4N"
      },
      "execution_count": null,
      "outputs": []
    },
    {
      "cell_type": "code",
      "source": [
        "True | True"
      ],
      "metadata": {
        "id": "AuUmz8uKEXw5"
      },
      "execution_count": null,
      "outputs": []
    },
    {
      "cell_type": "code",
      "source": [
        "False or False"
      ],
      "metadata": {
        "id": "509kaTxlEjVO"
      },
      "execution_count": null,
      "outputs": []
    },
    {
      "cell_type": "code",
      "source": [
        "not True"
      ],
      "metadata": {
        "id": "VzKwQYH6EnHu"
      },
      "execution_count": null,
      "outputs": []
    },
    {
      "cell_type": "code",
      "source": [
        "not False"
      ],
      "metadata": {
        "id": "sNnQCiOrEqXn"
      },
      "execution_count": null,
      "outputs": []
    },
    {
      "cell_type": "markdown",
      "source": [
        "## 내장 함수와 함수 호출 활용"
      ],
      "metadata": {
        "id": "WCm9xFATEU4F"
      }
    },
    {
      "cell_type": "code",
      "source": [
        "help(print)\n",
        "Help on built-in function print in module builtins:"
      ],
      "metadata": {
        "colab": {
          "base_uri": "https://localhost:8080/",
          "height": 106
        },
        "id": "ta6rIZvwE4D8",
        "outputId": "e0339e5d-4181-43a2-81e4-93491e2d8171"
      },
      "execution_count": 33,
      "outputs": [
        {
          "output_type": "error",
          "ename": "SyntaxError",
          "evalue": "invalid syntax (<ipython-input-33-694de34aa49e>, line 2)",
          "traceback": [
            "\u001b[0;36m  File \u001b[0;32m\"<ipython-input-33-694de34aa49e>\"\u001b[0;36m, line \u001b[0;32m2\u001b[0m\n\u001b[0;31m    Help on built-in function print in module builtins:\u001b[0m\n\u001b[0m         ^\u001b[0m\n\u001b[0;31mSyntaxError\u001b[0m\u001b[0;31m:\u001b[0m invalid syntax\n"
          ]
        }
      ]
    },
    {
      "cell_type": "code",
      "source": [
        "year = input('당신이 태어난 년도는 ?')\n",
        "당신이 태어난 년도는 ? 2004"
      ],
      "metadata": {
        "id": "iUz5_7PYFlI3"
      },
      "execution_count": null,
      "outputs": []
    },
    {
      "cell_type": "code",
      "source": [
        "type(year)\n"
      ],
      "metadata": {
        "id": "6smY-d2zFwJF"
      },
      "execution_count": null,
      "outputs": []
    },
    {
      "cell_type": "code",
      "source": [
        "age = 2026 - year"
      ],
      "metadata": {
        "id": "xdvXFLwHF2N5"
      },
      "execution_count": null,
      "outputs": []
    },
    {
      "cell_type": "code",
      "source": [
        "age = 2024 - int(year)\n",
        "print('나이', age)"
      ],
      "metadata": {
        "id": "BeLBjNhcF5NT"
      },
      "execution_count": null,
      "outputs": []
    },
    {
      "cell_type": "code",
      "source": [
        "year = int(input('당신이 태어난 년도는 ?'))"
      ],
      "metadata": {
        "id": "vTEkOwCmGH6m"
      },
      "execution_count": null,
      "outputs": []
    },
    {
      "cell_type": "code",
      "source": [
        "print('나이',2026 - year)"
      ],
      "metadata": {
        "id": "OsU86QyzGOz7"
      },
      "execution_count": null,
      "outputs": []
    },
    {
      "cell_type": "code",
      "source": [
        "abs(-3)"
      ],
      "metadata": {
        "id": "TxPBSNZoGU_x"
      },
      "execution_count": null,
      "outputs": []
    },
    {
      "cell_type": "code",
      "source": [
        "min(10, 20, 1)"
      ],
      "metadata": {
        "id": "QQOqxOM8GXs3"
      },
      "execution_count": null,
      "outputs": []
    },
    {
      "cell_type": "code",
      "source": [
        "max(10, 100,1)"
      ],
      "metadata": {
        "id": "zp3zw74OGaUZ"
      },
      "execution_count": null,
      "outputs": []
    },
    {
      "cell_type": "code",
      "source": [
        "min([10, 11, 112])"
      ],
      "metadata": {
        "id": "zjhogs9YGc6_"
      },
      "execution_count": null,
      "outputs": []
    },
    {
      "cell_type": "code",
      "source": [
        "max([10, 11, 12])"
      ],
      "metadata": {
        "id": "SXd0NzkEGiKT"
      },
      "execution_count": null,
      "outputs": []
    },
    {
      "cell_type": "code",
      "source": [
        "round(3.1415)"
      ],
      "metadata": {
        "id": "f-Eat18IGls2"
      },
      "execution_count": null,
      "outputs": []
    },
    {
      "cell_type": "code",
      "source": [
        "round(3.1415, 3)"
      ],
      "metadata": {
        "id": "Vr7ueYU1GpJO"
      },
      "execution_count": null,
      "outputs": []
    },
    {
      "cell_type": "markdown",
      "source": [
        "### 내장 모듈 math 활용"
      ],
      "metadata": {
        "id": "wyGsXGbvGssk"
      }
    },
    {
      "cell_type": "code",
      "source": [
        "import math as m\n",
        "m.pi, m.e"
      ],
      "metadata": {
        "id": "TJSAxYOPGyeY"
      },
      "execution_count": null,
      "outputs": []
    },
    {
      "cell_type": "code",
      "source": [
        "m.sqrt(4)"
      ],
      "metadata": {
        "id": "ZbkDFYX3G3wv"
      },
      "execution_count": null,
      "outputs": []
    },
    {
      "cell_type": "code",
      "source": [
        "m.ceil(3.7)\n"
      ],
      "metadata": {
        "id": "4eRFdgkqG63-"
      },
      "execution_count": null,
      "outputs": []
    },
    {
      "cell_type": "code",
      "source": [
        "m.ceil(3.1)\n"
      ],
      "metadata": {
        "id": "r1Wk_Z2IHD0G"
      },
      "execution_count": null,
      "outputs": []
    },
    {
      "cell_type": "code",
      "source": [
        "m.ceil(-3.7)\n"
      ],
      "metadata": {
        "id": "gr7PdmqSHFze"
      },
      "execution_count": null,
      "outputs": []
    },
    {
      "cell_type": "code",
      "source": [
        "m.ceil(-3.1)"
      ],
      "metadata": {
        "id": "VdJyygQfHJPq"
      },
      "execution_count": null,
      "outputs": []
    },
    {
      "cell_type": "code",
      "source": [
        "m.floor(3.7)"
      ],
      "metadata": {
        "id": "2wtNO9UMHLxI"
      },
      "execution_count": null,
      "outputs": []
    },
    {
      "cell_type": "code",
      "source": [
        "m.floor(3.1)"
      ],
      "metadata": {
        "id": "-OAF_9nvHQUb"
      },
      "execution_count": null,
      "outputs": []
    },
    {
      "cell_type": "code",
      "source": [
        "m.floor(-3.7)"
      ],
      "metadata": {
        "id": "8qImBnk4HRGU"
      },
      "execution_count": null,
      "outputs": []
    },
    {
      "cell_type": "code",
      "source": [
        "m.floor(3.1)"
      ],
      "metadata": {
        "id": "0n0j4gFnHRpl"
      },
      "execution_count": null,
      "outputs": []
    },
    {
      "cell_type": "code",
      "source": [
        "m.trunc(3.1415)"
      ],
      "metadata": {
        "id": "WobzdV4EHVg8"
      },
      "execution_count": null,
      "outputs": []
    },
    {
      "cell_type": "markdown",
      "source": [
        "### 토이 데이터의 데이터 프레임 활용"
      ],
      "metadata": {
        "id": "dN2vHFfDHdnE"
      }
    },
    {
      "cell_type": "code",
      "source": [
        "from pydataset import date\n",
        "\n",
        "all_data = data()\n",
        "all_data"
      ],
      "metadata": {
        "id": "9WIO703fHZVo"
      },
      "execution_count": null,
      "outputs": []
    },
    {
      "cell_type": "code",
      "source": [
        "cars = data('cars')\n",
        "cars"
      ],
      "metadata": {
        "id": "0WODxdhRHxVO"
      },
      "execution_count": null,
      "outputs": []
    },
    {
      "cell_type": "code",
      "source": [
        "import matplotilb.pyplot as plt\n",
        "\n",
        "plt.scatter(x = cars.speed, y = cars.dlst)\n",
        "plt.show()"
      ],
      "metadata": {
        "colab": {
          "base_uri": "https://localhost:8080/",
          "height": 367
        },
        "id": "xnv98F_fH17i",
        "outputId": "b0559d5b-97ec-45d7-c23b-768163849abc"
      },
      "execution_count": 36,
      "outputs": [
        {
          "output_type": "error",
          "ename": "ModuleNotFoundError",
          "evalue": "No module named 'matplotilb'",
          "traceback": [
            "\u001b[0;31m---------------------------------------------------------------------------\u001b[0m",
            "\u001b[0;31mModuleNotFoundError\u001b[0m                       Traceback (most recent call last)",
            "\u001b[0;32m<ipython-input-36-2221fda49ba5>\u001b[0m in \u001b[0;36m<cell line: 1>\u001b[0;34m()\u001b[0m\n\u001b[0;32m----> 1\u001b[0;31m \u001b[0;32mimport\u001b[0m \u001b[0mmatplotilb\u001b[0m\u001b[0;34m.\u001b[0m\u001b[0mpyplot\u001b[0m \u001b[0;32mas\u001b[0m \u001b[0mplt\u001b[0m\u001b[0;34m\u001b[0m\u001b[0;34m\u001b[0m\u001b[0m\n\u001b[0m\u001b[1;32m      2\u001b[0m \u001b[0;34m\u001b[0m\u001b[0m\n\u001b[1;32m      3\u001b[0m \u001b[0mplt\u001b[0m\u001b[0;34m.\u001b[0m\u001b[0mscatter\u001b[0m\u001b[0;34m(\u001b[0m\u001b[0mx\u001b[0m \u001b[0;34m=\u001b[0m \u001b[0mcars\u001b[0m\u001b[0;34m.\u001b[0m\u001b[0mspeed\u001b[0m\u001b[0;34m,\u001b[0m \u001b[0my\u001b[0m \u001b[0;34m=\u001b[0m \u001b[0mcars\u001b[0m\u001b[0;34m.\u001b[0m\u001b[0mdlst\u001b[0m\u001b[0;34m)\u001b[0m\u001b[0;34m\u001b[0m\u001b[0;34m\u001b[0m\u001b[0m\n\u001b[1;32m      4\u001b[0m \u001b[0mplt\u001b[0m\u001b[0;34m.\u001b[0m\u001b[0mshow\u001b[0m\u001b[0;34m(\u001b[0m\u001b[0;34m)\u001b[0m\u001b[0;34m\u001b[0m\u001b[0;34m\u001b[0m\u001b[0m\n",
            "\u001b[0;31mModuleNotFoundError\u001b[0m: No module named 'matplotilb'",
            "",
            "\u001b[0;31m---------------------------------------------------------------------------\u001b[0;32m\nNOTE: If your import is failing due to a missing package, you can\nmanually install dependencies using either !pip or !apt.\n\nTo view examples of installing some common dependencies, click the\n\"Open Examples\" button below.\n\u001b[0;31m---------------------------------------------------------------------------\u001b[0m\n"
          ],
          "errorDetails": {
            "actions": [
              {
                "action": "open_url",
                "actionText": "Open Examples",
                "url": "/notebooks/snippets/importing_libraries.ipynb"
              }
            ]
          }
        }
      ]
    },
    {
      "cell_type": "code",
      "source": [
        "import matplotlib.pyplot as plt\n",
        "import seaborn as sns\n",
        "\n",
        "sns.scatterplot(x = cars.speed, y = cars.dlst)\n",
        "plt.show()"
      ],
      "metadata": {
        "colab": {
          "base_uri": "https://localhost:8080/",
          "height": 193
        },
        "id": "Yyi-IVXwIFoh",
        "outputId": "ae8a9a12-6298-45ca-b701-63dcc34f9926"
      },
      "execution_count": 35,
      "outputs": [
        {
          "output_type": "error",
          "ename": "NameError",
          "evalue": "name 'cars' is not defined",
          "traceback": [
            "\u001b[0;31m---------------------------------------------------------------------------\u001b[0m",
            "\u001b[0;31mNameError\u001b[0m                                 Traceback (most recent call last)",
            "\u001b[0;32m<ipython-input-35-d13472deb08d>\u001b[0m in \u001b[0;36m<cell line: 4>\u001b[0;34m()\u001b[0m\n\u001b[1;32m      2\u001b[0m \u001b[0;32mimport\u001b[0m \u001b[0mseaborn\u001b[0m \u001b[0;32mas\u001b[0m \u001b[0msns\u001b[0m\u001b[0;34m\u001b[0m\u001b[0;34m\u001b[0m\u001b[0m\n\u001b[1;32m      3\u001b[0m \u001b[0;34m\u001b[0m\u001b[0m\n\u001b[0;32m----> 4\u001b[0;31m \u001b[0msns\u001b[0m\u001b[0;34m.\u001b[0m\u001b[0mscatterplot\u001b[0m\u001b[0;34m(\u001b[0m\u001b[0mx\u001b[0m \u001b[0;34m=\u001b[0m \u001b[0mcars\u001b[0m\u001b[0;34m.\u001b[0m\u001b[0mspeed\u001b[0m\u001b[0;34m,\u001b[0m \u001b[0my\u001b[0m \u001b[0;34m=\u001b[0m \u001b[0mcars\u001b[0m\u001b[0;34m.\u001b[0m\u001b[0mdlst\u001b[0m\u001b[0;34m)\u001b[0m\u001b[0;34m\u001b[0m\u001b[0;34m\u001b[0m\u001b[0m\n\u001b[0m\u001b[1;32m      5\u001b[0m \u001b[0mplt\u001b[0m\u001b[0;34m.\u001b[0m\u001b[0mshow\u001b[0m\u001b[0;34m(\u001b[0m\u001b[0;34m)\u001b[0m\u001b[0;34m\u001b[0m\u001b[0;34m\u001b[0m\u001b[0m\n",
            "\u001b[0;31mNameError\u001b[0m: name 'cars' is not defined"
          ]
        }
      ]
    },
    {
      "cell_type": "code",
      "source": [
        "mpg.info()"
      ],
      "metadata": {
        "colab": {
          "base_uri": "https://localhost:8080/",
          "height": 141
        },
        "id": "-cWSWEYwIhtY",
        "outputId": "b2251fe6-bfe2-4496-cd7e-097be84279bb"
      },
      "execution_count": 34,
      "outputs": [
        {
          "output_type": "error",
          "ename": "NameError",
          "evalue": "name 'mpg' is not defined",
          "traceback": [
            "\u001b[0;31m---------------------------------------------------------------------------\u001b[0m",
            "\u001b[0;31mNameError\u001b[0m                                 Traceback (most recent call last)",
            "\u001b[0;32m<ipython-input-34-36e72a0cc7fe>\u001b[0m in \u001b[0;36m<cell line: 1>\u001b[0;34m()\u001b[0m\n\u001b[0;32m----> 1\u001b[0;31m \u001b[0mmpg\u001b[0m\u001b[0;34m.\u001b[0m\u001b[0minfo\u001b[0m\u001b[0;34m(\u001b[0m\u001b[0;34m)\u001b[0m\u001b[0;34m\u001b[0m\u001b[0;34m\u001b[0m\u001b[0m\n\u001b[0m",
            "\u001b[0;31mNameError\u001b[0m: name 'mpg' is not defined"
          ]
        }
      ]
    }
  ]
}